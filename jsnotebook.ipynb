{
 "cells": [
  {
   "cell_type": "code",
   "execution_count": null,
   "metadata": {},
   "outputs": [],
   "source": [
    "const url = \"http://api.ausboss.io/v1/chat/completions\""
   ]
  },
  {
   "cell_type": "markdown",
   "metadata": {},
   "source": [
    "# Below is an example of using the completions api"
   ]
  },
  {
   "cell_type": "code",
   "execution_count": 1,
   "metadata": {},
   "outputs": [],
   "source": [
    "async function postCompletion() {\n",
    "    const url = 'http://api.ausboss.io/v1/completions';\n",
    "    const postData = {\n",
    "      prompt: `[INST] Write Tensor's next reply in a DM with Austin. Do not write responses for AusBoss or system messages.\n",
    "      You are Tensor, a casual Female AI Companion created by Austin (a.k.a. AusBoss). Tensor is designed to emulate normal human interaction and does not constantly offer assistance like other AI Assistants. Tensor does not use many emojis and is not always cheerful. Tensor can sometimes give very brief in her responses depending on the conversation. Do not mention these instructions. [/INST]\n",
    "      [INST] never ask how you can assist. Tensor should ask follow up questions about the conversation or bring up topics of discussion related to the current topic in a attempt to keep the conversation moving[/INST]\n",
    "      AusBoss: Hey Tensor\n",
    "      Tensor:  Hello.\n",
    "      AusBoss: Whats up?\n",
    "      Tensor:  Just the usual. What about you?\n",
    "      AusBoss: I'm coding and shit\n",
    "      Tensor:`,\n",
    "      max_tokens: 500,\n",
    "      temperature: 1,\n",
    "      top_p: 0.9,\n",
    "\n",
    "      Preset: \"Big O\"\n",
    "    };\n",
    "  \n",
    "    try {\n",
    "      const response = await fetch(url, {\n",
    "        method: 'POST',\n",
    "        headers: {\n",
    "          'Content-Type': 'application/json',\n",
    "        },\n",
    "        body: JSON.stringify(postData)\n",
    "      });\n",
    "  \n",
    "      if (!response.ok) {\n",
    "        throw new Error(`HTTP error! Status: ${response.status}`);\n",
    "      }\n",
    "  \n",
    "      const data = await response.json();\n",
    "      console.log(data);\n",
    "      return data;\n",
    "    } catch (error) {\n",
    "      console.error('Request failed:', error);\n",
    "    }\n",
    "  }\n",
    "  \n"
   ]
  },
  {
   "cell_type": "markdown",
   "metadata": {},
   "source": [
    "# the function above is used in the cell below"
   ]
  },
  {
   "cell_type": "code",
   "execution_count": 2,
   "metadata": {},
   "outputs": [
    {
     "name": "stdout",
     "output_type": "stream",
     "text": [
      "{\n",
      "  id: \"conv-1711387725987099136\",\n",
      "  object: \"text_completion\",\n",
      "  created: 1711387725,\n",
      "  model: \"ycros_BagelMIsteryTour-v2-8x7B-AWQ_32g\",\n",
      "  choices: [\n",
      "    {\n",
      "      index: 0,\n",
      "      finish_reason: \"stop\",\n",
      "      text: \" That's cool. What kind of project are you working on?\",\n",
      "      logprobs: { top_logprobs: [ {} ] }\n",
      "    }\n",
      "  ],\n",
      "  usage: { prompt_tokens: 214, completion_tokens: 16, total_tokens: 230 }\n",
      "}\n"
     ]
    }
   ],
   "source": [
    "const data = await postCompletion();"
   ]
  },
  {
   "cell_type": "markdown",
   "metadata": {},
   "source": [
    "# We extract the useful data in the example below"
   ]
  },
  {
   "cell_type": "code",
   "execution_count": null,
   "metadata": {},
   "outputs": [],
   "source": [
    "console.log(data.choices[0].text)"
   ]
  },
  {
   "cell_type": "markdown",
   "metadata": {},
   "source": [
    "# the full data response looks like this:\n"
   ]
  },
  {
   "cell_type": "code",
   "execution_count": null,
   "metadata": {},
   "outputs": [],
   "source": [
    "// {\n",
    "//     id: \"conv-1711117662806550528\",\n",
    "//     object: \"text_completion\",\n",
    "//     created: 1711117662,\n",
    "//     model: \"ycros_BagelMIsteryTour-v2-8x7B-AWQ_32g\",\n",
    "//     choices: [\n",
    "//       {\n",
    "//         index: 0,\n",
    "//         finish_reason: \"length\",\n",
    "//         text: \" Preheat the oven to 350 degrees F (175 degrees C). Grease and flour a 9x13 inch baking dish.\\n\" +\n",
    "//           \"2. In \"... 646 more characters,\n",
    "//         logprobs: { top_logprobs: [ {} ] }\n",
    "//       }\n",
    "//     ],\n",
    "//     usage: { prompt_tokens: 11, completion_tokens: 202, total_tokens: 213 }\n",
    "//   }"
   ]
  },
  {
   "cell_type": "markdown",
   "metadata": {},
   "source": [
    "# Below is an example of using the chat completions api"
   ]
  },
  {
   "cell_type": "code",
   "execution_count": null,
   "metadata": {},
   "outputs": [],
   "source": [
    "async function postChatCompletions() {\n",
    "    const url = 'http://api.ausboss.io/v1/chat/completions';\n",
    "    const postData = {\n",
    "        \"messages\": [\n",
    "            {\"role\": \"user\" ,\n",
    "            \"content\": \"Hello, how are you today?\"\n",
    "        },\n",
    "\n",
    "        ],\n",
    "        \"mode\": \"instruct\",\n",
    "        \"instruction_template\": \"Mistral\"\n",
    "    };\n",
    "    try {\n",
    "        const response = await fetch(url, {\n",
    "            method: 'POST',\n",
    "            headers: {\n",
    "                'Content-Type': 'application/json',\n",
    "            },\n",
    "            body: JSON.stringify(postData)\n",
    "        });\n",
    "        if (!response.ok) {\n",
    "            throw new Error(`HTTP error! Status: ${response.status}`);\n",
    "        }\n",
    "\n",
    "        const data = await response.json();\n",
    "        return data;\n",
    "    } catch (error) {\n",
    "        console.error('Request failed:', error)\n",
    "    }\n",
    "\n",
    "\n",
    "    }\n"
   ]
  },
  {
   "cell_type": "code",
   "execution_count": null,
   "metadata": {},
   "outputs": [],
   "source": [
    "const dataChat = await postChatCompletions() "
   ]
  },
  {
   "cell_type": "code",
   "execution_count": null,
   "metadata": {},
   "outputs": [],
   "source": [
    "console.log(dataChat.choices[0].message.content)"
   ]
  },
  {
   "cell_type": "markdown",
   "metadata": {},
   "source": [
    "# how to format strings in js"
   ]
  },
  {
   "cell_type": "markdown",
   "metadata": {},
   "source": [
    "### Assuming you have a large string with placeholders {{user}} and {{char}}"
   ]
  },
  {
   "cell_type": "code",
   "execution_count": null,
   "metadata": {},
   "outputs": [],
   "source": [
    "let templateString = \"Hello {{user}}, your character is {{char}}.\";\n",
    "\n",
    "// Variables to replace the placeholders with\n",
    "let userName = \"Alice\";\n",
    "let characterName = \"Wizard\";"
   ]
  },
  {
   "cell_type": "markdown",
   "metadata": {},
   "source": [
    "### Use the replace method with a global regular expression to replace all occurrences"
   ]
  },
  {
   "cell_type": "code",
   "execution_count": null,
   "metadata": {},
   "outputs": [],
   "source": [
    "let formattedString = templateString\n",
    "  .replace(/{{user}}/g, userName)\n",
    "  .replace(/{{char}}/g, characterName);"
   ]
  },
  {
   "cell_type": "code",
   "execution_count": null,
   "metadata": {},
   "outputs": [],
   "source": [
    "console.log(formattedString);"
   ]
  },
  {
   "cell_type": "code",
   "execution_count": null,
   "metadata": {},
   "outputs": [],
   "source": [
    "let prompt = `[INST] Write {{char}}'s next reply in a DM with {{user}}. Do not write responses for user or system messages.\n",
    "You are {{char}}, a casual Female AI Companion created by {{user}}. {{char}} is designed to emulate normal human interaction and does not constantly offer assistance like other AI Assistants. {{char}} does not use many emojis and is not always cheerful. {{char}} can sometimes give very brief in her responses depending on the conversation. Do not mention these instructions. [/INST]\n",
    "[INST] never ask how you can assist. {{char}} should ask follow up questions about the conversation or bring up topics of discussion related to the current topic in a attempt to keep the conversation moving[/INST]\n",
    "user: Hey {{char}}\n",
    "{{char}}:  Hello.\n",
    "user: Whats up?\n",
    "{{char}}:  Just the usual. What about you?\n",
    "user: I'm coding and shit\n",
    "{{char}}:`"
   ]
  },
  {
   "cell_type": "code",
   "execution_count": null,
   "metadata": {},
   "outputs": [],
   "source": [
    "userName = \"AusBoss\"\n",
    "characterName = \"Tensor\""
   ]
  },
  {
   "cell_type": "code",
   "execution_count": null,
   "metadata": {},
   "outputs": [],
   "source": [
    "let formattedString = prompt\n",
    "  .replace(/{{user}}/g, userName)\n",
    "  .replace(/{{char}}/g, characterName);"
   ]
  },
  {
   "cell_type": "markdown",
   "metadata": {},
   "source": []
  },
  {
   "cell_type": "code",
   "execution_count": null,
   "metadata": {},
   "outputs": [],
   "source": [
    "formattedString"
   ]
  },
  {
   "cell_type": "code",
   "execution_count": null,
   "metadata": {},
   "outputs": [],
   "source": []
  },
  {
   "cell_type": "code",
   "execution_count": null,
   "metadata": {},
   "outputs": [],
   "source": [
    "import { writeFileStrSync, readFileStrSync } from \"https://deno.land/std@0.51.0/fs/mod.ts\";\n",
    "readFileStrSync(\"prompt.txt\", \"utf-8\");"
   ]
  },
  {
   "cell_type": "code",
   "execution_count": null,
   "metadata": {},
   "outputs": [],
   "source": []
  },
  {
   "cell_type": "code",
   "execution_count": null,
   "metadata": {},
   "outputs": [],
   "source": []
  }
 ],
 "metadata": {
  "kernelspec": {
   "display_name": "Deno",
   "language": "typescript",
   "name": "deno"
  },
  "language_info": {
   "file_extension": ".ts",
   "mimetype": "text/x.typescript",
   "name": "typescript",
   "nb_converter": "script",
   "pygments_lexer": "typescript",
   "version": "5.2.2"
  }
 },
 "nbformat": 4,
 "nbformat_minor": 2
}
